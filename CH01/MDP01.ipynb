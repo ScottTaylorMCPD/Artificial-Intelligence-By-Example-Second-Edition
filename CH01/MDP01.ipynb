{
  "cells": [
    {
      "cell_type": "markdown",
      "metadata": {
        "colab_type": "text",
        "id": "HraR3RUThMww"
      },
      "source": [
        "# The Bellman Equation, Q-Learning,  based on the Markov Decision Process(MDP) "
      ]
    },
    {
      "cell_type": "markdown",
      "metadata": {
        "colab_type": "text",
        "id": "QYQ6UxAuhhVh"
      },
      "source": [
        "## The Reward Matrix"
      ]
    },
    {
      "cell_type": "code",
      "execution_count": 1,
      "metadata": {
        "colab": {},
        "colab_type": "code",
        "id": "_uTqqXAChK-z"
      },
      "outputs": [],
      "source": [
        "# Markov Decision Process (MDP) - The Bellman equations adapted to\n",
        "# Q Learning.Reinforcement Learning with the Q action-value(reward) function.\n",
        "# Copyright 2018 Denis Rothman MIT License. See LICENSE.\n",
        "import numpy as ql\n",
        "# R is The Reward Matrix for each state\n",
        "R = ql.matrix([ [0,0,0,0,1,0],\n",
        "\t\t            [0,0,0,1,0,1],\n",
        "\t\t            [0,0,100,1,0,0],\n",
        "\t             \t[0,1,1,0,1,0],\n",
        "\t\t            [1,0,0,1,0,0],\n",
        "\t\t            [0,1,0,0,0,0] ])\n",
        "\n",
        "# Q is the Learning Matrix in which rewards will be learned/stored\n",
        "Q = ql.matrix(ql.zeros([6,6]))"
      ]
    },
    {
      "cell_type": "code",
      "execution_count": 2,
      "metadata": {},
      "outputs": [
        {
          "name": "stdout",
          "output_type": "stream",
          "text": [
            "R matrix([[  0,   0,   0,   0,   1,   0],\n",
            "        [  0,   0,   0,   1,   0,   1],\n",
            "        [  0,   0, 100,   1,   0,   0],\n",
            "        [  0,   1,   1,   0,   1,   0],\n",
            "        [  1,   0,   0,   1,   0,   0],\n",
            "        [  0,   1,   0,   0,   0,   0]])\n",
            "Q matrix([[0., 0., 0., 0., 0., 0.],\n",
            "        [0., 0., 0., 0., 0., 0.],\n",
            "        [0., 0., 0., 0., 0., 0.],\n",
            "        [0., 0., 0., 0., 0., 0.],\n",
            "        [0., 0., 0., 0., 0., 0.],\n",
            "        [0., 0., 0., 0., 0., 0.]])\n"
          ]
        }
      ],
      "source": [
        "print(\"R\", repr(R))\n",
        "print(\"Q\", repr(Q))"
      ]
    },
    {
      "cell_type": "markdown",
      "metadata": {
        "colab_type": "text",
        "id": "UvdGSy26hr8p"
      },
      "source": [
        "##  The Learning rate or training penalty"
      ]
    },
    {
      "cell_type": "code",
      "execution_count": 3,
      "metadata": {
        "colab": {},
        "colab_type": "code",
        "id": "DjM41MSZh4gB"
      },
      "outputs": [],
      "source": [
        "# Gamma : It's a form of penalty or uncertainty for learning\n",
        "# If the value is 1 , the rewards would be too high.\n",
        "# This way the system knows it is learning.\n",
        "gamma = 0.8"
      ]
    },
    {
      "cell_type": "markdown",
      "metadata": {
        "colab_type": "text",
        "id": "JE_o-xsJiL4g"
      },
      "source": [
        "## Initial State"
      ]
    },
    {
      "cell_type": "code",
      "execution_count": 4,
      "metadata": {
        "colab": {},
        "colab_type": "code",
        "id": "KefpjG8DiKdR"
      },
      "outputs": [],
      "source": [
        "# agent_s_state. The agent the name of the system calculating\n",
        "# s is the state the agent is going from and s' the state it's going to\n",
        "# this state can be random or it can be chosen as long as the rest of the choices\n",
        "# are not determined. Randomness is part of this stochastic process\n",
        "agent_s_state = 5"
      ]
    },
    {
      "cell_type": "markdown",
      "metadata": {
        "colab_type": "text",
        "id": "stMsPTIfiUKZ"
      },
      "source": [
        "## The random choice of the next state"
      ]
    },
    {
      "cell_type": "code",
      "execution_count": 6,
      "metadata": {
        "colab": {},
        "colab_type": "code",
        "id": "FzXY43JZieZA"
      },
      "outputs": [],
      "source": [
        "# The possible \"a\" actions when the agent is in a given state\n",
        "def possible_actions(state):\n",
        "    current_state_row = R[state,]\n",
        "    possible_act = ql.where(current_state_row >0)[1]\n",
        "    return possible_act\n",
        "\n",
        "# Get available actions in the current state\n",
        "PossibleAction = possible_actions(agent_s_state)\n",
        "\n",
        "# This function chooses at random which action to be performed within the range \n",
        "# of all the available actions.\n",
        "def ActionChoice(available_actions_range):\n",
        "    if(sum(PossibleAction)>0):\n",
        "        new_next_action = ql.random.choice(PossibleAction,1)\n",
        "    if(sum(PossibleAction)<=0):\n",
        "        new_next_action = ql.random.choice(5,1)\n",
        "    next_action = int(new_next_action.item())\n",
        "    return next_action\n",
        "\n",
        "# Sample next action to be performed\n",
        "action = ActionChoice(PossibleAction)"
      ]
    },
    {
      "cell_type": "code",
      "execution_count": 7,
      "metadata": {},
      "outputs": [
        {
          "name": "stdout",
          "output_type": "stream",
          "text": [
            "array([1])\n",
            "array([1])\n",
            "5\n"
          ]
        }
      ],
      "source": [
        "print(repr(PossibleAction))\n",
        "print(repr(possible_actions(agent_s_state)))\n",
        "print(repr(agent_s_state))"
      ]
    },
    {
      "cell_type": "markdown",
      "metadata": {
        "colab_type": "text",
        "id": "0wvY6Yh5ikcI"
      },
      "source": [
        "## The Bellman Equation"
      ]
    },
    {
      "cell_type": "code",
      "execution_count": 8,
      "metadata": {
        "colab": {},
        "colab_type": "code",
        "id": "XR1k5KQQivXA"
      },
      "outputs": [],
      "source": [
        "# A version of the Bellman equation for reinforcement learning using the Q function\n",
        "# This reinforcement algorithm is a memoryless process\n",
        "# The transition function T from one state to another\n",
        "# is not in the equation below.  T is done by the random choice above\n",
        "\n",
        "def reward(current_state, action, gamma):\n",
        "    Max_State = ql.where(Q[action,] == ql.max(Q[action,]))[1]\n",
        "\n",
        "    if Max_State.shape[0] > 1:\n",
        "        New_Max_State = ql.random.choice(Max_State, size = 1)\n",
        "    else:\n",
        "        New_Max_State = Max_State\n",
        "    Max_State = int(New_Max_State.item())\n",
        "    MaxValue = Q[action, Max_State]\n",
        "    \n",
        "    # Bellman's MDP based Q function\n",
        "    Q[current_state, action] = R[current_state, action] + gamma * MaxValue\n",
        "\n",
        "# Rewarding Q matrix\n",
        "reward(agent_s_state,action,gamma)"
      ]
    },
    {
      "cell_type": "markdown",
      "metadata": {
        "colab_type": "text",
        "id": "zafEE-asi0k4"
      },
      "source": [
        "## Running the training episodes randomly"
      ]
    },
    {
      "cell_type": "code",
      "execution_count": 9,
      "metadata": {
        "colab": {
          "base_uri": "https://localhost:8080/",
          "height": 255
        },
        "colab_type": "code",
        "id": "_e0SAAo_i9Jw",
        "outputId": "66ab5be0-a415-4448-b634-75a2562505c1"
      },
      "outputs": [
        {
          "name": "stdout",
          "output_type": "stream",
          "text": [
            "Q  :\n",
            "[[  0.      0.      0.      0.    258.44    0.   ]\n",
            " [  0.      0.      0.    321.8     0.    207.752]\n",
            " [  0.      0.    500.    321.8     0.      0.   ]\n",
            " [  0.    258.44  401.      0.    258.44    0.   ]\n",
            " [207.752   0.      0.    321.8     0.      0.   ]\n",
            " [  0.    258.44    0.      0.      0.      0.   ]]\n",
            "Normed Q :\n",
            "[[  0.       0.       0.       0.      51.688    0.    ]\n",
            " [  0.       0.       0.      64.36     0.      41.5504]\n",
            " [  0.       0.     100.      64.36     0.       0.    ]\n",
            " [  0.      51.688   80.2      0.      51.688    0.    ]\n",
            " [ 41.5504   0.       0.      64.36     0.       0.    ]\n",
            " [  0.      51.688    0.       0.       0.       0.    ]]\n"
          ]
        }
      ],
      "source": [
        "# Learning over n iterations depending on the convergence of the system\n",
        "# A convergence function can replace the systematic repeating of the process\n",
        "# by comparing the sum of the Q matrix to that of Q matrix n-1 in the\n",
        "# previous episode\n",
        "for i in range(50000):\n",
        "    current_state = ql.random.randint(0, int(Q.shape[0]))\n",
        "    PossibleAction = possible_actions(current_state)\n",
        "    action = ActionChoice(PossibleAction)\n",
        "    reward(current_state,action,gamma)\n",
        "    \n",
        "# Displaying Q before the norm of Q phase\n",
        "print(\"Q  :\")\n",
        "print(Q)\n",
        "\n",
        "# Norm of Q\n",
        "print(\"Normed Q :\")\n",
        "print(Q/ql.max(Q)*100)"
      ]
    }
  ],
  "metadata": {
    "colab": {
      "collapsed_sections": [],
      "name": "MDPI.ipynb",
      "provenance": [],
      "toc_visible": true,
      "version": "0.3.2"
    },
    "kernelspec": {
      "display_name": "Python 3",
      "name": "python3"
    },
    "language_info": {
      "codemirror_mode": {
        "name": "ipython",
        "version": 3
      },
      "file_extension": ".py",
      "mimetype": "text/x-python",
      "name": "python",
      "nbconvert_exporter": "python",
      "pygments_lexer": "ipython3",
      "version": "3.11.6"
    }
  },
  "nbformat": 4,
  "nbformat_minor": 0
}
